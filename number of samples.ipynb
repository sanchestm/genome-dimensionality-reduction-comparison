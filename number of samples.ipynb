{
 "cells": [
  {
   "cell_type": "code",
   "execution_count": 1,
   "metadata": {},
   "outputs": [
    {
     "ename": "SyntaxError",
     "evalue": "unexpected EOF while parsing (<ipython-input-1-5c91772e05db>, line 1)",
     "output_type": "error",
     "traceback": [
      "\u001b[0;36m  File \u001b[0;32m\"<ipython-input-1-5c91772e05db>\"\u001b[0;36m, line \u001b[0;32m1\u001b[0m\n\u001b[0;31m    for i in range(n):\u001b[0m\n\u001b[0m                      ^\u001b[0m\n\u001b[0;31mSyntaxError\u001b[0m\u001b[0;31m:\u001b[0m unexpected EOF while parsing\n"
     ]
    }
   ],
   "source": []
  },
  {
   "cell_type": "code",
   "execution_count": 2,
   "metadata": {},
   "outputs": [],
   "source": [
    "import random "
   ]
  },
  {
   "cell_type": "code",
   "execution_count": null,
   "metadata": {},
   "outputs": [],
   "source": [
    "p = 0.6"
   ]
  },
  {
   "cell_type": "code",
   "execution_count": 14,
   "metadata": {},
   "outputs": [],
   "source": [
    "def n_samples(n, p): return sum([0 if random.random() > p else 1 for a in range(n)])/n"
   ]
  },
  {
   "cell_type": "code",
   "execution_count": 15,
   "metadata": {},
   "outputs": [
    {
     "data": {
      "text/plain": [
       "0.4"
      ]
     },
     "execution_count": 15,
     "metadata": {},
     "output_type": "execute_result"
    }
   ],
   "source": [
    "n_samples(10, .6)"
   ]
  },
  {
   "cell_type": "code",
   "execution_count": 16,
   "metadata": {},
   "outputs": [],
   "source": [
    "import numpy as np"
   ]
  },
  {
   "cell_type": "code",
   "execution_count": 26,
   "metadata": {},
   "outputs": [],
   "source": [
    "#number of replicates\n",
    "x = range(1, 50)"
   ]
  },
  {
   "cell_type": "code",
   "execution_count": 67,
   "metadata": {},
   "outputs": [
    {
     "data": {
      "text/plain": [
       "array([[0.80246667, 0.81891737],\n",
       "       [0.481     , 0.57821555],\n",
       "       [0.38038889, 0.46859514],\n",
       "       [0.34431667, 0.40734544],\n",
       "       [0.27516667, 0.36414706],\n",
       "       [0.27187778, 0.32759827],\n",
       "       [0.24842381, 0.30913447],\n",
       "       [0.23271667, 0.28843327],\n",
       "       [0.22131852, 0.27013893],\n",
       "       [0.20041667, 0.25769813],\n",
       "       [0.19841818, 0.24331676],\n",
       "       [0.19053056, 0.23749407],\n",
       "       [0.17881026, 0.22257637],\n",
       "       [0.17664524, 0.21681584],\n",
       "       [0.16584444, 0.21116354],\n",
       "       [0.163825  , 0.20299812],\n",
       "       [0.15666078, 0.19564576],\n",
       "       [0.15269259, 0.19031977],\n",
       "       [0.15075789, 0.18666026],\n",
       "       [0.14383333, 0.1818656 ],\n",
       "       [0.14387937, 0.1783716 ],\n",
       "       [0.13947273, 0.17415732],\n",
       "       [0.13587536, 0.16989061],\n",
       "       [0.13575972, 0.16781083],\n",
       "       [0.12798667, 0.16266303],\n",
       "       [0.12850641, 0.16014777],\n",
       "       [0.12594815, 0.15792532],\n",
       "       [0.12248929, 0.15337575],\n",
       "       [0.12328736, 0.15325251],\n",
       "       [0.11691667, 0.14758003],\n",
       "       [0.1181172 , 0.14673579],\n",
       "       [0.1138375 , 0.14262824],\n",
       "       [0.11266263, 0.14089791],\n",
       "       [0.11158725, 0.13903848],\n",
       "       [0.1085    , 0.13676156],\n",
       "       [0.10965   , 0.13635663],\n",
       "       [0.10691982, 0.13389462],\n",
       "       [0.10622632, 0.13306284],\n",
       "       [0.10431795, 0.13065649],\n",
       "       [0.10294167, 0.12915978],\n",
       "       [0.1022813 , 0.12722792],\n",
       "       [0.10119206, 0.12700207],\n",
       "       [0.10063721, 0.12569415],\n",
       "       [0.10067121, 0.12480382],\n",
       "       [0.09691111, 0.12235692],\n",
       "       [0.09476522, 0.11852765],\n",
       "       [0.09549362, 0.11913686],\n",
       "       [0.09411528, 0.11758701],\n",
       "       [0.09314558, 0.11632017]])"
      ]
     },
     "execution_count": 67,
     "metadata": {},
     "output_type": "execute_result"
    }
   ],
   "source": [
    "lista"
   ]
  },
  {
   "cell_type": "code",
   "execution_count": 63,
   "metadata": {},
   "outputs": [],
   "source": [
    "p= .6\n",
    "lista = []\n",
    "for i in x:\n",
    "    one_test = np.array([n_samples(i, p) - p for par in range(10000)])\n",
    "    lista += [[abs(one_test).mean(), one_test.std()]]\n",
    "    "
   ]
  },
  {
   "cell_type": "code",
   "execution_count": 64,
   "metadata": {},
   "outputs": [],
   "source": [
    "lista = np.array(lista)/p"
   ]
  },
  {
   "cell_type": "code",
   "execution_count": 65,
   "metadata": {},
   "outputs": [],
   "source": [
    "import matplotlib.pyplot as plt\n"
   ]
  },
  {
   "cell_type": "code",
   "execution_count": 66,
   "metadata": {},
   "outputs": [
    {
     "data": {
      "text/plain": [
       "<matplotlib.collections.PolyCollection at 0x7f08ece2f5c0>"
      ]
     },
     "execution_count": 66,
     "metadata": {},
     "output_type": "execute_result"
    },
    {
     "data": {
      "image/png": "[encoded data removed]",
      "text/plain": [
       "<Figure size 432x288 with 1 Axes>"
      ]
     },
     "metadata": {
      "needs_background": "light"
     },
     "output_type": "display_data"
    }
   ],
   "source": [
    "plt.plot(lista.T[0])\n",
    "plt.fill_between(x, lista.T[0] - lista.T[1],lista.T[0] + lista.T[1],\n",
    "                 color='gray', alpha=0.2)"
   ]
  },
  {
   "cell_type": "code",
   "execution_count": 58,
   "metadata": {},
   "outputs": [
    {
     "data": {
      "text/plain": [
       "0.26666666666666666"
      ]
     },
     "execution_count": 58,
     "metadata": {},
     "output_type": "execute_result"
    }
   ],
   "source": [
    "\n"
   ]
  },
  {
   "cell_type": "code",
   "execution_count": null,
   "metadata": {},
   "outputs": [],
   "source": []
  }
 ],
 "metadata": {
  "kernelspec": {
   "display_name": "Python 3",
   "language": "python",
   "name": "python3"
  },
  "language_info": {
   "codemirror_mode": {
    "name": "ipython",
    "version": 3
   },
   "file_extension": ".py",
   "mimetype": "text/x-python",
   "name": "python",
   "nbconvert_exporter": "python",
   "pygments_lexer": "ipython3",
   "version": "3.7.3"
  }
 },
 "nbformat": 4,
 "nbformat_minor": 4
}
